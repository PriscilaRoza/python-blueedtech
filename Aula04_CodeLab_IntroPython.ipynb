{
  "nbformat": 4,
  "nbformat_minor": 0,
  "metadata": {
    "colab": {
      "name": "Aula04_CodeLab-IntroPython.ipynb",
      "provenance": [],
      "include_colab_link": true
    },
    "kernelspec": {
      "name": "python3",
      "display_name": "Python 3"
    },
    "language_info": {
      "name": "python"
    }
  },
  "cells": [
    {
      "cell_type": "markdown",
      "metadata": {
        "id": "view-in-github",
        "colab_type": "text"
      },
      "source": [
        "<a href=\"https://colab.research.google.com/github/PriscilaRoza/python-blueedtech/blob/main/Aula04_CodeLab_IntroPython.ipynb\" target=\"_parent\"><img src=\"https://colab.research.google.com/assets/colab-badge.svg\" alt=\"Open In Colab\"/></a>"
      ]
    },
    {
      "cell_type": "markdown",
      "metadata": {
        "id": "Zmfx8vBO8wR6"
      },
      "source": [
        "# **Comando Print, Variáveis e Input**"
      ]
    },
    {
      "cell_type": "code",
      "metadata": {
        "id": "YjlUA_szAhWD"
      },
      "source": [
        "#Print é uma função que imprimi na tela o que a gente quer:\n",
        "\n",
        "print('Hello World') #Sempre acompanhado de parênteses"
      ],
      "execution_count": null,
      "outputs": []
    },
    {
      "cell_type": "code",
      "metadata": {
        "id": "9lZjvDRiKBQM"
      },
      "source": [
        "#Variável é um espaço na memória que guarda algum dado.\n",
        "\n",
        "#Em Python todas as váriáveis precisam ser inicializadas com um valor:\n",
        "\n",
        "idade = 23 #Variável idade que recebe o valor 23\n",
        "\n",
        "print(idade)"
      ],
      "execution_count": null,
      "outputs": []
    },
    {
      "cell_type": "code",
      "metadata": {
        "id": "zwy7soEyKJq0"
      },
      "source": [
        "# Tipos de variáveis:\n",
        "  # str = Valores entre aspas ''\n",
        "  # int = Número inteiros\n",
        "  # float = Números decimais\n",
        "  # bool = Valores booleanos: True ou False\n",
        "\n",
        "#Para descobrir qual é o tipo de uma variável eu preciso execultar:\n",
        "\n",
        "idade = 23\n",
        "\n",
        "print(type(idade)) #função type que identifica o tipo da var e função print para mostrar na tela"
      ],
      "execution_count": null,
      "outputs": []
    },
    {
      "cell_type": "code",
      "metadata": {
        "id": "gLBw8OcWKUjZ"
      },
      "source": [
        "# Para escrever um texto antes de mostrar o tipo podemos fazer o f string:\n",
        "\n",
        "idade = 23\n",
        "\n",
        "print(f'Sua var idade é do tipo: {type(idade)}') #Entre chaves coloque valores que não são string"
      ],
      "execution_count": null,
      "outputs": []
    },
    {
      "cell_type": "code",
      "metadata": {
        "id": "Pwhy755zKXVA"
      },
      "source": [
        "#Para eu perguntar para o usuário a idade dele e apresentar na tela, posso usar input:\n",
        "\n",
        "idade = input('Quantos anos você tem? ')\n",
        "\n",
        "print(f'Que legal! Você tem {idade} anos')"
      ],
      "execution_count": null,
      "outputs": []
    },
    {
      "cell_type": "code",
      "metadata": {
        "id": "Om3CsQDoLkvN"
      },
      "source": [
        "# Uma forma de atribuir o mesmo valor a várias variáveis é:\n",
        "\n",
        "peso = idade = quantidade = 60\n",
        "\n",
        "print(f'Peso: {peso}, Idade: {idade}, Quantidade: {quantidade}')"
      ],
      "execution_count": null,
      "outputs": []
    },
    {
      "cell_type": "code",
      "metadata": {
        "id": "Nwuw3gzRMIpi"
      },
      "source": [
        "# Você pode atribuir valores diferentes a variáveis diferentes na mesma linha:\n",
        "\n",
        "inteiro, texto, booleano, flutuante = 23, \"Olá\", True, 23.5\n",
        "\n",
        "# Para colocar cada item em uma linha é só adicionar um \\n entre as informações:\n",
        "print(f'Inteiro: {inteiro}\\nTexto: {texto}\\nBooleano: {booleano}\\nFlutuante: {flutuante}')"
      ],
      "execution_count": null,
      "outputs": []
    },
    {
      "cell_type": "markdown",
      "metadata": {
        "id": "tTu_CWTjI946"
      },
      "source": [
        "## Exercícios\n"
      ]
    },
    {
      "cell_type": "markdown",
      "metadata": {
        "id": "lmPZx5u4RoQZ"
      },
      "source": [
        "01 - Elabore um programa que imprima na tela a seguinte frase `Olá Mundo! Esse é o meu primeiro programa`"
      ]
    },
    {
      "cell_type": "code",
      "metadata": {
        "id": "g8dMf1JWJIro"
      },
      "source": [
        "# Resposta:\n",
        "\n",
        "Print('Olá Mundo! Esse é o meu primeiro programa')"
      ],
      "execution_count": null,
      "outputs": []
    },
    {
      "cell_type": "markdown",
      "metadata": {
        "id": "Spj9tyYQRgXi"
      },
      "source": [
        "02 - Elabore um programa que escreve seu nome completo na primeira linha, seu endereço na segunda e o CEP e telefone na terceira.  \n",
        "\n",
        "**Exemplo:**\n",
        "```\n",
        "Nome: Bruno Fabri\n",
        "Endereço: Rua ABC\n",
        "CEP: 002220-010\n",
        "```"
      ]
    },
    {
      "cell_type": "code",
      "metadata": {
        "id": "BbNGATgmRwjW",
        "colab": {
          "base_uri": "https://localhost:8080/"
        },
        "outputId": "03668343-cc0b-4fa1-d079-0c072d079571"
      },
      "source": [
        "# Resposta:\n",
        "print('Nome: Priscila Roza')\n",
        "print('Endereço: Rua numero 1')\n",
        "print('00000-000')"
      ],
      "execution_count": null,
      "outputs": [
        {
          "output_type": "stream",
          "text": [
            "Nome: Priscila Roza\n",
            "Endereço: Rua numero 1\n",
            "00000-000\n"
          ],
          "name": "stdout"
        }
      ]
    },
    {
      "cell_type": "markdown",
      "metadata": {
        "id": "VkAAhkqYR2Tj"
      },
      "source": [
        "03 - Elabore um programa que recebe o nome de uma pessoa do terminal e mostra a seguinte mensagem: `Olá {nome}! Seja bem vindo ao fantástico mundo da programação`"
      ]
    },
    {
      "cell_type": "code",
      "metadata": {
        "id": "Vceow2I6SA62",
        "colab": {
          "base_uri": "https://localhost:8080/"
        },
        "outputId": "7da64bfa-aed1-4e55-cef5-2cc9b72548f9"
      },
      "source": [
        "# Resposta:\n",
        "nome = input('Qual é seu nome? ')\n",
        "print(f'Olá {nome} seja bem vindo!')\n"
      ],
      "execution_count": null,
      "outputs": [
        {
          "output_type": "stream",
          "text": [
            "Qual é seu nome? Priscila\n",
            "Olá Priscila seja bem vindo!\n"
          ],
          "name": "stdout"
        }
      ]
    },
    {
      "cell_type": "markdown",
      "metadata": {
        "id": "uT2UBCKsQNNq"
      },
      "source": [
        "# **Operadores: Aritméticos, Relacionais e Lógicos**"
      ]
    },
    {
      "cell_type": "code",
      "metadata": {
        "id": "LjBN25O0Qdmj"
      },
      "source": [
        "# Operadores Aritméticos:\n",
        "  # + (Adição)\n",
        "  # - (Subtração)\n",
        "  # * (Multiplicação)\n",
        "  # / (Divisão)\n",
        "  # // (Divisão inteira)\n",
        "  # ** (Exponenciação)\n",
        "  # % (Resto da divisão(mod))\n",
        "\n",
        "# Agora vamos solicitar um valor para o user, porém precisamos converter o valor input.\n",
        "# Isso por que todo input devolve um valor str.\n",
        "# E para realizar as operações precisamos de um valor int\n",
        "\n",
        "#Para converter é só fazer isso:\n",
        "n1 = int(input('Digite o primeiro número: '))\n",
        "n2 = int(input('Digite o segundo número: '))\n",
        "\n",
        "soma = n1 + n2\n",
        "sub = n1 - n2\n",
        "mult = n1 * n2\n",
        "div = n1 / n2\n",
        "divInteira = n1 // n2\n",
        "expo = n1 ** n2\n",
        "mod = n1 % n2\n",
        "\n",
        "print(f'{n1} + {n2} = {soma}')\n",
        "print(f'{n1} - {n2} = {sub}')\n",
        "print(f'{n1} * {n2} = {mult}')\n",
        "print(f'{n1} / {n2} = {div}')\n",
        "print(f'{n1} // {n2} = {divInteira}')\n",
        "print(f'{n1} ** {n2} = {expo}')\n",
        "print(f'{n1} % {n2} = {mod}')\n"
      ],
      "execution_count": null,
      "outputs": []
    },
    {
      "cell_type": "code",
      "metadata": {
        "id": "CWkaWk7LRboQ"
      },
      "source": [
        "#Para limitar as casas decimais de uma var float precisamos aplicar essa formatação:\n",
        "\n",
        "n1 = int(input('Digite o primeiro número: '))\n",
        "n2 = int(input('Digite o segundo número: '))\n",
        "\n",
        "div = n1 / n2\n",
        "\n",
        "print(f'{n1} / {n2} = {div:.2f}')\n",
        "\n",
        "# 2f é a quantidade de casas decimais desejadas."
      ],
      "execution_count": null,
      "outputs": []
    },
    {
      "cell_type": "code",
      "metadata": {
        "id": "zv1FLJwMXuFo"
      },
      "source": [
        "# Operadores Relacionais\n",
        "  # > (Maior que)\n",
        "  # < (Menor que)\n",
        "  # >= (Maior OU igual que)\n",
        "  # <= (Menor OU igual que)\n",
        "  # != (Diferente de)\n",
        "  # == (Igual a)\n",
        "\n",
        "  # Sempre retornam True ou False\n",
        "  # São usados para comparar valores\n",
        "  # Utilize a técnica de perguntar\n",
        "\n",
        "\n",
        "n1 = int(input('Digite o primeiro número: '))\n",
        "n2 = int(input('Digite o segundo número: '))\n",
        "\n",
        "print(f'{n1} é maior que {n2}? {n1 > n2}')\n",
        "print(f'{n1} é menor que {n2}? {n1 < n2}')\n",
        "print(f'{n1} é maior ou igual que {n2}? {n1 >= n2}')\n",
        "print(f'{n1} é menor ou igual que {n2}? {n1 <= n2}')\n",
        "print(f'{n1} é diferente de {n2}? {n1 != n2}')\n",
        "print(f'{n1} é igual a {n2}? {n1 == n2}')\n"
      ],
      "execution_count": null,
      "outputs": []
    },
    {
      "cell_type": "code",
      "metadata": {
        "colab": {
          "base_uri": "https://localhost:8080/"
        },
        "id": "6TNqv-1VZfK9",
        "outputId": "23ec13a7-a727-424c-a2c5-83f70e65f8fa"
      },
      "source": [
        "# Operadores Lógicos\n",
        "  # and (E)\n",
        "  # or  (OU)\n",
        "  # not (Negação)\n",
        "\n",
        "# Retorna True ou False\n",
        "# Compara duas expreções relacionais\n",
        "\n",
        "n1 = 1\n",
        "n2 = 2\n",
        "n3 = 3\n",
        "n4 = 4\n",
        "\n",
        "# Vamos perguntar: n1 é maior que n2 E n3 é menor que n4?\n",
        "# A resposta só será True se TODAS as relações forem True:\n",
        "\n",
        "print(n1 > n2 and n3 < n4) # Nesse caso da False, por que n1 não é maior que n2\n",
        "\n",
        "# Vamos perguntar: n1 é maior que n2 OU n3 é menor que n4?\n",
        "# A resposta será True se ao menos UMA relação for True:\n",
        "\n",
        "print(n1 > n2 or n3 < n4) # Nesse caso da True, por que pelo menos n3 é menor que n4\n",
        "\n",
        "# O operador NOT, serve para negar o resultado da operação.\n",
        "# Ou seja, ele inverte o resultado, se for True, transforma em False e vice versa.\n",
        "\n",
        "print(not n1 > n2) # Retorna True, por que o resultado de n1 maior que n2 é False\n",
        "\n",
        "# Para negar uma operação composta de operadores relacionais e lógicos devemos usar as {}:\n",
        "\n",
        "print(not {n1 > n2 or n3 < n4}) # Aqui retornaria True, se não fosse o not.\n"
      ],
      "execution_count": null,
      "outputs": [
        {
          "output_type": "stream",
          "text": [
            "False\n",
            "True\n",
            "True\n",
            "False\n"
          ],
          "name": "stdout"
        }
      ]
    },
    {
      "cell_type": "markdown",
      "metadata": {
        "id": "V4Kg2SPIS27-"
      },
      "source": [
        "## Exercicios"
      ]
    },
    {
      "cell_type": "markdown",
      "metadata": {
        "id": "9rb59HolS6s9"
      },
      "source": [
        "04 - Elabore um programa que recebe dois valores inteiros e mostra a soma desses valores\n",
        "\n",
        "**Exemplo:**\n",
        "\n",
        "```\n",
        "Primeiro Valor = 2\n",
        "Segundo Valor = 3\n",
        "Soma = 5\n",
        "```"
      ]
    },
    {
      "cell_type": "code",
      "metadata": {
        "id": "cDyb7_AMS58q",
        "colab": {
          "base_uri": "https://localhost:8080/"
        },
        "outputId": "c959a787-1e5f-4a9f-f9db-aa435cba6121"
      },
      "source": [
        "# Resposta\n",
        "n1 = int(input('digite o primeiro numero'))\n",
        "n2= int(input('digite o segundo numero'))\n",
        "soma = n1 + n2\n",
        "print(f'{n1} + {n2} = {soma}')"
      ],
      "execution_count": null,
      "outputs": [
        {
          "output_type": "stream",
          "text": [
            "digite o primeiro numero5\n",
            "digite o segundo numero2\n",
            "5 + 2 = 7\n"
          ],
          "name": "stdout"
        }
      ]
    },
    {
      "cell_type": "markdown",
      "metadata": {
        "id": "ToLeCDCuTCtz"
      },
      "source": [
        "05 - Elabore um programa que receba 4 notas de um aluno e calcule a média dele.\n",
        "\n",
        "**Exemplo:**\n",
        "\n",
        "```\n",
        "Primeiro Nota = 7\n",
        "Segundo Nota = 8\n",
        "Terceiro Nota = 10\n",
        "Quarto Nota = 6\n",
        "\n",
        "Média = 7,75\n",
        "```"
      ]
    },
    {
      "cell_type": "code",
      "metadata": {
        "id": "a2CQjPojTyD9"
      },
      "source": [
        "# Resposta:\n",
        "n1 = float(input('Digite a primeira nota: '))\n",
        "n2 = float(input('Digite a segunda nota: '))\n",
        "n3 = float(input('Digite a terceira nota: '))\n",
        "n4 = float(input('Digite a quarta nota: '))\n",
        "\n",
        "media = (n1 + n2 + n3 + n4)/4\n",
        "\n",
        "print(f'A sua media é: {media:.2f}')"
      ],
      "execution_count": null,
      "outputs": []
    },
    {
      "cell_type": "markdown",
      "metadata": {
        "id": "Jc42VswpUHgb"
      },
      "source": [
        "06 - Elabore um programa que recebe dois valores inteiros e mostra se o primeiro valor é maior ou igual ao segundo valor\n",
        "\n",
        "**Exemplo:**\n",
        "```\n",
        "Primeiro Valor = 3\n",
        "Segundo Valor = 2\n",
        "Resultado = True\n",
        "```"
      ]
    },
    {
      "cell_type": "code",
      "metadata": {
        "id": "XAI-npGXUL76",
        "colab": {
          "base_uri": "https://localhost:8080/"
        },
        "outputId": "db6ae484-e30d-4a4f-f823-08c943a1e4c4"
      },
      "source": [
        "# Resposta:\n",
        "valor1 = float(input('digite o primeiro valor: '))\n",
        "valor2 = float(input('digite o segundo valor: '))\n",
        "\n",
        "print(valor1 > valor2)"
      ],
      "execution_count": null,
      "outputs": [
        {
          "output_type": "stream",
          "text": [
            "digite o primeiro valor: 4\n",
            "digite o segundo valor: 7\n",
            "False\n"
          ],
          "name": "stdout"
        }
      ]
    },
    {
      "cell_type": "markdown",
      "metadata": {
        "id": "D6lcbtHDhLKP"
      },
      "source": [
        "# **Manipulação de Strings**"
      ]
    },
    {
      "cell_type": "code",
      "metadata": {
        "id": "BA70o_L5hiYw"
      },
      "source": [
        "# Uma string é uma sequência de caracteres simples. Na linguagem Python, \n",
        "# as strings são utilizadas com aspas simples ('...') ou aspas duplas (\"...\").\n",
        "\n",
        "# Concatenação de Strings:\n",
        "\n",
        "titulo = 'Programação '\n",
        "linguagem = 'Python'\n",
        "titulo_linguagem = titulo + linguagem # Concatenação das Strings (str)\n",
        "\n",
        "print(titulo_linguagem)"
      ],
      "execution_count": null,
      "outputs": []
    },
    {
      "cell_type": "markdown",
      "metadata": {
        "id": "EGWXGUI8_x-j"
      },
      "source": [
        "## **Métodos de manipulação**"
      ]
    },
    {
      "cell_type": "code",
      "metadata": {
        "id": "rdBA5QlYzG8I"
      },
      "source": [
        "# Método len()\n",
        "\n",
        "#Retorna o tamanho da string\n",
        "\n",
        "titulo = 'Programação Python'\n",
        "\n",
        "print(f'O tamanho da String titulo é: {len(titulo)}')"
      ],
      "execution_count": null,
      "outputs": []
    },
    {
      "cell_type": "code",
      "metadata": {
        "id": "qf4AzhOy0T5y"
      },
      "source": [
        "# Método capitalize()\n",
        "\n",
        "# Retorna a string com a primeira letra maiúscula\n",
        "\n",
        "titulo = 'python'\n",
        "\n",
        "print(titulo.capitalize())"
      ],
      "execution_count": null,
      "outputs": []
    },
    {
      "cell_type": "code",
      "metadata": {
        "id": "nOMj8_bi0njx"
      },
      "source": [
        "# Método count()\n",
        "\n",
        "# Informa quantas vezes um caractere (ou uma sequência de caracteres) aparece na string.\n",
        "# Distingue entre maiúsculas e minúsculas\n",
        "\n",
        "titulo = 'Programação em Python'\n",
        "\n",
        "print(titulo.count('a')) # Conte quantos caracteres 'a' eu tenho nessa string"
      ],
      "execution_count": null,
      "outputs": []
    },
    {
      "cell_type": "code",
      "metadata": {
        "id": "qWQFjtPo1gLG"
      },
      "source": [
        "# Método startswith()\n",
        "\n",
        "# Verifica se uma string inicia com uma determinada sequência ou letra\n",
        "\n",
        "titulo = 'Python'\n",
        "\n",
        "print(titulo.startswith('Py')) # O retorno será True ou False"
      ],
      "execution_count": null,
      "outputs": []
    },
    {
      "cell_type": "code",
      "metadata": {
        "id": "qffnbR-P3UE1"
      },
      "source": [
        "# Método endswith()​\n",
        "\n",
        "# Verifica se uma string termina com uma determinada sequência ou letra.\n",
        "\n",
        "titulo = 'Python'\n",
        "\n",
        "print(titulo.endswith('Py')) # O retorno será True ou False"
      ],
      "execution_count": null,
      "outputs": []
    },
    {
      "cell_type": "code",
      "metadata": {
        "id": "0EFSChZN3gOw"
      },
      "source": [
        "# Método isalnum()​\n",
        "\n",
        "# Verifica se a string possui algum conteúdo alfanumérico (letra ou número).\n",
        "\n",
        "simbolos = '!@#$%&'\n",
        "\n",
        "print(simbolos.isalnum()) # O retorno será True ou False"
      ],
      "execution_count": null,
      "outputs": []
    },
    {
      "cell_type": "code",
      "metadata": {
        "id": "q_0w_UaT4Je2"
      },
      "source": [
        "# Método isalpha()​\n",
        "\n",
        "# Verifica se a string possui apenas conteúdo alfabético (letras).\n",
        "\n",
        "titulo = 'Python'\n",
        "\n",
        "print(titulo.isalpha()) # O retorno será True ou False"
      ],
      "execution_count": null,
      "outputs": []
    },
    {
      "cell_type": "code",
      "metadata": {
        "id": "wH6jZHmm4gEH"
      },
      "source": [
        "# Método islower()\n",
        "\n",
        "# Verifica se todas as letras de uma string são minúsculas​.\n",
        "\n",
        "titulo = 'Python'\n",
        "\n",
        "print(titulo.islower()) # O retorno será True ou False"
      ],
      "execution_count": null,
      "outputs": []
    },
    {
      "cell_type": "code",
      "metadata": {
        "id": "TmQ3-Smj4q4Q"
      },
      "source": [
        "# Método isupper()​\n",
        "\n",
        "# Verifica se todas as letras de uma string são maiúsculas. \n",
        "\n",
        "titulo = 'PYTHON'\n",
        "\n",
        "print(titulo.isupper()) # O retorno será True ou False"
      ],
      "execution_count": null,
      "outputs": []
    },
    {
      "cell_type": "code",
      "metadata": {
        "id": "fl6Ybw0D42yi"
      },
      "source": [
        "# Método lower()​\n",
        "\n",
        "# Retorna uma cópia da string trocando todas as letras para minúsculo.\n",
        "\n",
        "titulo = 'PYTHON'\n",
        "\n",
        "print(titulo.lower())"
      ],
      "execution_count": null,
      "outputs": []
    },
    {
      "cell_type": "code",
      "metadata": {
        "id": "hYAme2ft5Dto"
      },
      "source": [
        "# Método upper()​\n",
        "\n",
        "# Retorna uma cópia da string trocando todas as letras para maiúsculo.\n",
        "\n",
        "titulo = 'python'\n",
        "\n",
        "print(titulo.upper())"
      ],
      "execution_count": null,
      "outputs": []
    },
    {
      "cell_type": "code",
      "metadata": {
        "id": "x_fUCiM75Ke7"
      },
      "source": [
        "# Método swapcase()​\n",
        "\n",
        "# Inverte o conteúdo da string (Minúsculo / Maiúsculo).​\n",
        "\n",
        "titulo = 'Python'\n",
        "\n",
        "print(titulo.swapcase())"
      ],
      "execution_count": null,
      "outputs": []
    },
    {
      "cell_type": "code",
      "metadata": {
        "id": "jEIrPCF_5hCy"
      },
      "source": [
        "# Método title()​\n",
        "\n",
        "# Converte para maiúsculo todas as primeiras letras de cada palavra da string.\n",
        "\n",
        "titulo = 'Programação em python'\n",
        "\n",
        "print(titulo.title())"
      ],
      "execution_count": null,
      "outputs": []
    },
    {
      "cell_type": "code",
      "metadata": {
        "id": "42JhujV85tF2"
      },
      "source": [
        "# Método split()​\n",
        "\n",
        "# Transforma a string em uma lista, utilizando os espaços como referência. ​\n",
        "\n",
        "titulo = 'Programação em Python'\n",
        "\n",
        "print(titulo.split())"
      ],
      "execution_count": null,
      "outputs": []
    },
    {
      "cell_type": "code",
      "metadata": {
        "id": "hSEtRsWl6lyq"
      },
      "source": [
        "# Método replace(S1, S2)\n",
        "\n",
        "# Substitui na String o techo de S1 pelo trecho S2\n",
        "\n",
        "titulo = 'Programação em Java'\n",
        "\n",
        "print(titulo.replace('Java', 'Python'))"
      ],
      "execution_count": null,
      "outputs": []
    },
    {
      "cell_type": "code",
      "metadata": {
        "id": "fGp-6dkD8jsK"
      },
      "source": [
        "# Método find()​\n",
        "\n",
        "# Retorna o índice (posição) da primeira ocorrência de um determinado caractere na string.\n",
        "# Se o caractere não estiver na string retorna -1.\n",
        "\n",
        "titulo = 'Programação em Python'\n",
        "\n",
        "print(titulo.find('j'))\n",
        "\n",
        "print(titulo.find('o'))"
      ],
      "execution_count": null,
      "outputs": []
    },
    {
      "cell_type": "code",
      "metadata": {
        "id": "X-OWpTt99ThE"
      },
      "source": [
        "# Método ljust()​\n",
        "\n",
        "# Ajusta a string para um tamanho mínimo, acrescentando espaços à direita se necessário.​\n",
        "\n",
        "titulo = 'Python'\n",
        "\n",
        "print(f'*{titulo.ljust(15)}*') # 15 é o número de espaço que eu quero que o titulo ocupe."
      ],
      "execution_count": null,
      "outputs": []
    },
    {
      "cell_type": "code",
      "metadata": {
        "id": "-dXk0a8Z97VS"
      },
      "source": [
        "# Método center()​\n",
        "\n",
        "# Ajusta a string para um tamanho mínimo, acrescentando espaços à esquerda e à direita, se necessário.\n",
        "\n",
        "titulo = 'Python'\n",
        "\n",
        "print(f'*{titulo.center(20)}*') # 20 é o número de espaço que eu quero que o titulo ocupe."
      ],
      "execution_count": null,
      "outputs": []
    },
    {
      "cell_type": "code",
      "metadata": {
        "id": "m-XSumSj-Wlv"
      },
      "source": [
        "# Método rjust()​\n",
        "\n",
        "# Ajusta a string para um tamanho mínimo, acrescentando espaços à esquerda se necessário.​\n",
        "\n",
        "titulo = 'Python'\n",
        "\n",
        "print(f'*{titulo.rjust(30)}*') # 30 é o número de espaço que eu quero que o titulo ocupe."
      ],
      "execution_count": null,
      "outputs": []
    },
    {
      "cell_type": "code",
      "metadata": {
        "id": "RnzlTp2k-hnE"
      },
      "source": [
        "# Método strip()​\n",
        "\n",
        "# Remove todos os espaços em branco da string.\n",
        "\n",
        "titulo = '   Python   '\n",
        "\n",
        "print(f'*{titulo.strip()}*')"
      ],
      "execution_count": null,
      "outputs": []
    },
    {
      "cell_type": "markdown",
      "metadata": {
        "id": "khy9z-jP_qV_"
      },
      "source": [
        "## **Fatiamento de Strings**"
      ]
    },
    {
      "cell_type": "code",
      "metadata": {
        "id": "M66bDqUC_pdF"
      },
      "source": [
        "# Serve para retornar apenas uma parte da String\n",
        "\n",
        "# Uma String é uma lista de caracteres, essa lista começa em 0 sempre:\n",
        "\n",
        "  # 'Python'\n",
        "  #  012345\n",
        "    # Posição 0 = P\n",
        "    # Posição 1 = y\n",
        "    # Posição 2 = t\n",
        "    # Posição 3 = h\n",
        "    # Posição 4 = o\n",
        "    # Posição 5 = n\n",
        "\n",
        "# IMPORTANTE: Os espaços são caracteres também!\n",
        "\n",
        "titulo = 'Programação com Python'\n",
        "\n",
        "print(titulo[0]) # Retorna o primeiro caractere\n",
        "\n",
        "print(titulo[-1]) # Retorna o último caractere\n",
        "\n",
        "print(titulo[2:15]) # Retorna os caracteres da posição 2 até a posição 14 (desconsidera a posição 15)\n",
        "\n",
        "print(titulo[:15]) # Retorna os caracteres da posição 0 até a posição 14 (desconsidera a posição 15)\n",
        "\n",
        "print(titulo[6:]) # Retorna os caracteres da posição 6 até a última posição\n",
        "\n",
        "print(titulo[2:15:2]) # Retorna os caracteres da posição 2 até a posição 14 pulando de 2 em 2"
      ],
      "execution_count": null,
      "outputs": []
    },
    {
      "cell_type": "markdown",
      "metadata": {
        "id": "6LoX6mhVUy5S"
      },
      "source": [
        "## Exercícios"
      ]
    },
    {
      "cell_type": "markdown",
      "metadata": {
        "id": "v80-OPw1U49a"
      },
      "source": [
        "07 - Considere a string A = \"Os limites só existem se você os deixar existir.(goku)\".\n",
        "\n",
        "Que fatia corresponde a (goku)?"
      ]
    },
    {
      "cell_type": "code",
      "metadata": {
        "id": "A4wb4tQ3VDGf",
        "colab": {
          "base_uri": "https://localhost:8080/"
        },
        "outputId": "4860c0c6-f110-44d0-f516-012b56abb1fb"
      },
      "source": [
        "# Resposta:\n",
        "frase = 'Os limites só existem se você deixar existir.(goku)'\n",
        "print(len(frase))\n",
        "print(frase[45:51])"
      ],
      "execution_count": null,
      "outputs": [
        {
          "output_type": "stream",
          "text": [
            "51\n",
            "(goku)\n"
          ],
          "name": "stdout"
        }
      ]
    },
    {
      "cell_type": "markdown",
      "metadata": {
        "id": "ySMoS96mVIHS"
      },
      "source": [
        "08 - Escreva um programa que solicite uma frase ao usuário e escreva a frase toda em maiúscula e sem espaços em branco."
      ]
    },
    {
      "cell_type": "code",
      "metadata": {
        "id": "Nc_Gen3yVUrB",
        "colab": {
          "base_uri": "https://localhost:8080/"
        },
        "outputId": "6c65a2e6-b7a6-4db0-f052-fd364b1b149b"
      },
      "source": [
        "# Resposta:\n",
        "frase = input('Digite uma frase: ').upper()\n",
        "print(frase.replace(\" \", \"\"))"
      ],
      "execution_count": null,
      "outputs": [
        {
          "output_type": "stream",
          "text": [
            "Digite uma frase: priscila roza da silva\n",
            "PRISCILAROZADASILVA\n"
          ],
          "name": "stdout"
        }
      ]
    },
    {
      "cell_type": "markdown",
      "metadata": {
        "id": "BoeKDNIkVZwq"
      },
      "source": [
        "09 - Elabore um programa que recebe o seu nome, endereço e hobby e mostra cada uma das informações da seguinte forma:\n",
        "- Nome -> Letra maiúscula\n",
        "- Endereço -> Letra minúscula\n",
        "- Hobby -> Primeira letra maiúscula\n",
        "\n",
        "**Exemplo Entrada:**\n",
        "```\n",
        "Nome: bruno fabri\n",
        "Endereço: Rua ABC\n",
        "Hobby: jogar cs\n",
        "```\n",
        "\n",
        "**Exemplo Saída:**\n",
        "```\n",
        "Nome: BRUNO FABRI\n",
        "Endereço: rua abc\n",
        "Hobby: Jogar cs\n",
        "```"
      ]
    },
    {
      "cell_type": "code",
      "metadata": {
        "id": "XPmY2CpLVgwS",
        "colab": {
          "base_uri": "https://localhost:8080/"
        },
        "outputId": "97710b20-9a08-4bd6-b96d-7c77b2805f5a"
      },
      "source": [
        "# Resposta:\n",
        "nome = input('Digite seu nome: ').upper()\n",
        "print(f'Nome: ' + nome)\n",
        "\n",
        "endereco = input('Digite seu endereço')\n",
        "print('Endereço: '+ endereco.lower())\n",
        "\n",
        "hobby =input('Digite seu hobby: ') \n",
        "print('Hobby: '+ hobby.capitalize())\n"
      ],
      "execution_count": null,
      "outputs": [
        {
          "output_type": "stream",
          "text": [
            "Digite seu nome: sdfghjk\n",
            "Nome: SDFGHJK\n",
            "Digite seu endereçodfghjk\n",
            "Endereço: dfghjk\n",
            "Digite seu hobby: xcvgbhjkjhgfd\n",
            "Hobby: Xcvgbhjkjhgfd\n"
          ],
          "name": "stdout"
        }
      ]
    },
    {
      "cell_type": "markdown",
      "metadata": {
        "id": "AwpeihKpVxjM"
      },
      "source": [
        "# **Mini projetos**"
      ]
    },
    {
      "cell_type": "code",
      "metadata": {
        "id": "NuF87Wlo_a8m"
      },
      "source": [
        ""
      ],
      "execution_count": null,
      "outputs": []
    },
    {
      "cell_type": "markdown",
      "metadata": {
        "id": "xWcbRWxRV8yM"
      },
      "source": [
        "```\n",
        "# Isto está formatado como código\n",
        "```\n",
        "\n",
        "## Mini Projeto 01 - Conversor de Moeda\n",
        "Vamos construir um programa que irá converter moedas do real para o dólar e do dólar para o real. Vamos considerar que `$ 1,00 = R$ 5,75`\n",
        "\n",
        "### Parte 1\n",
        "Faça o conversor de moeda receber o valor em real e mostrar o valor convertido para dólar no formato `$ XXXX.XX`\n",
        "\n",
        "**Exemplo:**\n",
        "\n",
        "```\n",
        "Valor em R$ = 1000\n",
        "Valor em $ = $ 173.91\n",
        "```\n",
        "\n",
        "### Parte 2\n",
        "Altere o conversor de moedas para receber o valor em dólar, converter para real e mostrar o resultado no formato `R$ XXXX.XX`\n",
        "\n",
        "**Exemplo:**\n",
        "```\n",
        "Valor em $ = 1000\n",
        "Valor em R$ = R$ 5750.00\n",
        "```"
      ]
    },
    {
      "cell_type": "code",
      "metadata": {
        "id": "yxJi46NsWPv2",
        "colab": {
          "base_uri": "https://localhost:8080/"
        },
        "outputId": "6a5badc2-1441-4034-964b-c8831a91a661"
      },
      "source": [
        "# Resposta Parte 1\n",
        "dolar = 5.75\n",
        "\n",
        "real= float(input('digite o valor em Reais: '))\n",
        "result = float(real * dolar)\n",
        "\n",
        "print(f'O valor convertido de Reais em Dolar é: ${result:.2f}')\n"
      ],
      "execution_count": null,
      "outputs": [
        {
          "output_type": "stream",
          "text": [
            "digite o valor em Reais: 100\n",
            "O valor convertido de Reais em Dolar é: $575.00\n"
          ],
          "name": "stdout"
        }
      ]
    },
    {
      "cell_type": "code",
      "metadata": {
        "id": "pXNTytAgWSLm"
      },
      "source": [
        "# Resposta Parte 2\n",
        "dolaraux = 5.75\n",
        "dolar = float(input('digite o valor em dolar: '))\n",
        "result= float(dolar / dolaraux)\n",
        "\n",
        "print(f'o valor convertido de dolar em reais é R$')"
      ],
      "execution_count": null,
      "outputs": []
    },
    {
      "cell_type": "markdown",
      "metadata": {
        "id": "CvO7KWU-WWxo"
      },
      "source": [
        "## Mini Projeto 02 - Calculadora de aumento de aluguel\n",
        "Vamos construir um programa que irá calcular o aumento anual do seu aluguel em duas partes:\n",
        "\n",
        "### Parte 1\n",
        "A sua calculadora vai receber o `valor do aluguel` e calcular o aumento baseado no `IGPM de 31%`. A calculadora deve apresentar o aluguel reajustado no formato `R$ XXXX.XX`\n",
        "\n",
        "**Exemplo:**\n",
        "```\n",
        "Valor do aluguel = 1000\n",
        "Valor do aluguel reajustado = R$ 1310,00\n",
        "```\n",
        "\n",
        "### Parte 2\n",
        "Agora, altere sua calculadora para receber além do `valor do aluguel`, o percentual do reajuste no formato `XX%`.  \n",
        "\n",
        "**Dica:** Descubra uma forma de transformar o percentual recebido em um número para efetuar o cálculo.\n",
        "\n",
        "**Exemplo:**\n",
        "```\n",
        "Valor do aluguel = 1000\n",
        "Percentual do reajuste = 31%\n",
        "Valor do aluguel reajustado = R% 1310,00\n",
        "```"
      ]
    },
    {
      "cell_type": "code",
      "metadata": {
        "id": "VSeAwlW9WbUs",
        "colab": {
          "base_uri": "https://localhost:8080/"
        },
        "outputId": "8d163037-2467-46c6-fb07-e85f4931149c"
      },
      "source": [
        "# Resposta Parte 1\n",
        "reajuste = 31 \n",
        "\n",
        "aluguel = float(input('digite o valor do aluguel: R$ '))\n",
        "resultado = float(aluguel + (aluguel* reajuste/100))\n",
        "print(f'o valor do aluguel reajustado é R${resultado:.2f}') "
      ],
      "execution_count": null,
      "outputs": [
        {
          "output_type": "stream",
          "text": [
            "digite o valor do aluguel: R$ 1000\n",
            "o valor do aluguel reajustado é R$1310.00\n"
          ],
          "name": "stdout"
        }
      ]
    },
    {
      "cell_type": "code",
      "metadata": {
        "id": "bs3jS1yMWd3y",
        "colab": {
          "base_uri": "https://localhost:8080/"
        },
        "outputId": "2cdf420c-c5d5-4730-c219-f8c1c73a04f4"
      },
      "source": [
        "# Resposta Parte 2\n",
        "aluguel = float(input('digite o valor do aluguel: R$: '))\n",
        "reajuste= float(input('digite a porcentagem do rajuste: '))\n",
        "\n",
        "resultado = float(aluguel+(aluguel * reajuste /100))\n",
        "print(f'o valor do aluguel reajustado é de: R$ {resultado:.2f}')"
      ],
      "execution_count": null,
      "outputs": [
        {
          "output_type": "stream",
          "text": [
            "digite o valor do aluguel: R$: 1000\n",
            "digite a porcentagem do rajuste: 50\n",
            "o valor do aluguel reajustado é de: R$ 1500.00\n"
          ],
          "name": "stdout"
        }
      ]
    },
    {
      "cell_type": "markdown",
      "metadata": {
        "id": "HXFZFLGGWpfe"
      },
      "source": [
        "## Mini Projeto 03 - Calculadora de dano\n",
        "Vamos implementar a calculadora de dano de RPG!!\n",
        "\n",
        "### Parte 1\n",
        "O programa vai receber a `vida e um monstro (entre 10 e 50)` e o `valor do ataque do jogador por turno (entre 5 e 10)`\n",
        "\n",
        "Baseado nos valores, exiba a quantidade de turnos que o jogador irá demorar para conseguir derrotar o monstro.\n",
        "\n",
        "**Exemplo:**\n",
        "```\n",
        "Vida de um monstro (entre 10 e 50): 26\n",
        "Valor do ataque do jogador por turno (entre 5 e 10): 5\n",
        "Resultado: O jogador irá precisar de 6 turnos para derrotar o monstro.\n",
        "```\n",
        "\n",
        "### Parte 2\n",
        "Altere o programa para ao invés de receber a vida do monstro, gerar aleatoriamente um valor entre 10 e 50."
      ]
    },
    {
      "cell_type": "code",
      "metadata": {
        "id": "CfBE1-9PWq3P",
        "colab": {
          "base_uri": "https://localhost:8080/"
        },
        "outputId": "b35741bd-eab0-48b4-8313-db2183395956"
      },
      "source": [
        "# Resposta Parte 1\n",
        "import math\n",
        "\n",
        "vida = float(input('digite um valor entre 10 e 50: '))\n",
        "ataque = float(input('digite um valor entre 5 e 10: '))\n",
        "\n",
        "Resultado = (float(vida / ataque))\n",
        "Resultado = math.ceil(Resultado)\n",
        "print(f'O jogador irá precisar de {Resultado} turnos para derrotar o monstro.')\n",
        "\n",
        "\n"
      ],
      "execution_count": null,
      "outputs": [
        {
          "output_type": "stream",
          "text": [
            "digite um valor entre 10 e 50: 9\n",
            "digite um valor entre 5 e 10: 5\n",
            "O jogador irá precisar de 2 turnos para derrotar o monstro.\n"
          ],
          "name": "stdout"
        }
      ]
    },
    {
      "cell_type": "code",
      "metadata": {
        "id": "t_fYeKL3WtzV",
        "colab": {
          "base_uri": "https://localhost:8080/"
        },
        "outputId": "d0ab9b09-2ac5-4e23-b516-28df78ba8f1a"
      },
      "source": [
        "# Resposta Parte 2\n",
        "import math\n",
        "import random\n",
        "\n",
        "vida = random.randrange(10,50)\n",
        "print(f'A quantidade de vida do monstro é:{vida} ')\n",
        "ataque = float(input('digite um valor entre 5 e 10: '))\n",
        "\n",
        "Resultado = (float(vida / ataque))\n",
        "Resultado = math.ceil(Resultado)\n",
        "print(f'O jogador irá precisar de {Resultado} turnos para derrotar o monstro.')\n"
      ],
      "execution_count": null,
      "outputs": [
        {
          "output_type": "stream",
          "text": [
            "A quantidade de vida do monstro é:34 \n",
            "digite um valor entre 5 e 10: 10\n",
            "O jogador irá precisar de 4 turnos para derrotar o monstro.\n"
          ],
          "name": "stdout"
        }
      ]
    },
    {
      "cell_type": "code",
      "metadata": {
        "id": "0RMuXfyYb4fE"
      },
      "source": [
        ""
      ],
      "execution_count": null,
      "outputs": []
    }
  ]
}